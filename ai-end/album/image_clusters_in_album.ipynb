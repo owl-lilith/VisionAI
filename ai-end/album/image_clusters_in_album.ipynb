{
 "cells": [
  {
   "cell_type": "code",
   "execution_count": null,
   "id": "874a5f96",
   "metadata": {},
   "outputs": [],
   "source": [
    "import numpy as np\n",
    "import json\n",
    "import pandas as pd"
   ]
  },
  {
   "cell_type": "code",
   "execution_count": null,
   "id": "f3d26e97",
   "metadata": {},
   "outputs": [],
   "source": [
    "all_images = pd.read_csv('../sources/metadata/albums.csv')\n",
    "def change_Z1(row):\n",
    "    if row['cluster_group'] == 'Z1':\n",
    "        row['cluster_group'] = f\"Z{row['cluster_id']}\"\n",
    "    return row\n",
    "\n",
    "all_images = all_images.apply(change_Z1, axis=1)"
   ]
  },
  {
   "cell_type": "code",
   "execution_count": null,
   "id": "0933fb9a",
   "metadata": {},
   "outputs": [],
   "source": [
    "cluster_data = pd.read_csv('../sources/metadata/cluster_data.csv')\n",
    "\n",
    "def change_Z1(row):\n",
    "    if row['cluster_group'] == 'Z1':\n",
    "        row['cluster_group'] = f\"Z{row['id']}\"\n",
    "    return row\n",
    "\n",
    "cluster_data = cluster_data.apply(change_Z1, axis=1)"
   ]
  },
  {
   "cell_type": "code",
   "execution_count": null,
   "id": "168a5323",
   "metadata": {},
   "outputs": [],
   "source": [
    "title_columns = ['faces_categories', 'common_object_label', 'dominant_folder', 'common_background_class', 'common_context_theme', 'cluster_group']\n",
    "images_paths =  all_images['path'].tolist()\n",
    "albums_data = all_images[title_columns]\n",
    "album_id = all_images['cluster_group'].tolist()"
   ]
  },
  {
   "cell_type": "code",
   "execution_count": null,
   "id": "e69991dc",
   "metadata": {},
   "outputs": [],
   "source": [
    "albums = {}\n",
    "\n",
    "for path, id in zip(images_paths, album_id):\n",
    "    group = albums_data[albums_data['cluster_group'] == id].describe().reset_index()\n",
    "    group = group[group['index'] == 'top'].drop(columns=['index'])\n",
    "    if id not in albums:\n",
    "        albums[id] = {\n",
    "            'image_paths': [],\n",
    "            'faces_categories': group.iloc[0]['faces_categories'],\n",
    "            'common_object_label': group.iloc[0]['common_object_label'],\n",
    "            'dominant_folder': group.iloc[0]['dominant_folder'],\n",
    "            'common_background_class': group.iloc[0]['common_background_class'],\n",
    "            'common_context_theme': group.iloc[0]['common_context_theme'],\n",
    "        }\n",
    "    albums[id]['image_paths'].append(path)"
   ]
  },
  {
   "cell_type": "code",
   "execution_count": 129,
   "id": "447824c6",
   "metadata": {},
   "outputs": [],
   "source": [
    "\n",
    "with open('../sources/metadata/albums_data.json', 'w') as f:\n",
    "    json.dump(albums, f, indent=4)"
   ]
  },
  {
   "cell_type": "code",
   "execution_count": null,
   "id": "d7deb85e",
   "metadata": {},
   "outputs": [],
   "source": []
  }
 ],
 "metadata": {
  "kernelspec": {
   "display_name": "Python 3",
   "language": "python",
   "name": "python3"
  },
  "language_info": {
   "codemirror_mode": {
    "name": "ipython",
    "version": 3
   },
   "file_extension": ".py",
   "mimetype": "text/x-python",
   "name": "python",
   "nbconvert_exporter": "python",
   "pygments_lexer": "ipython3",
   "version": "3.11.3"
  }
 },
 "nbformat": 4,
 "nbformat_minor": 5
}

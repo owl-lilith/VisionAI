{
 "cells": [
  {
   "cell_type": "code",
   "execution_count": null,
   "id": "4df3e1cc",
   "metadata": {},
   "outputs": [
    {
     "name": "stderr",
     "output_type": "stream",
     "text": [
      "c:\\Users\\DELL\\AppData\\Local\\Programs\\Python\\Python311\\Lib\\site-packages\\transformers\\models\\vit\\feature_extraction_vit.py:28: FutureWarning: The class ViTFeatureExtractor is deprecated and will be removed in version 5 of Transformers. Please use ViTImageProcessor instead.\n",
      "  warnings.warn(\n"
     ]
    }
   ],
   "source": [
    "from transformers import ViTFeatureExtractor, ViTForImageClassification\n",
    "import torch\n",
    "import json\n",
    "from tqdm import tqdm\n",
    "from PIL import Image as PILImage\n",
    "# search by background\n",
    "from concurrent.futures import ThreadPoolExecutor\n",
    "import numpy as np\n",
    "import faiss\n",
    "\n",
    "model = ViTForImageClassification.from_pretrained(\"D:\\image_search_engine_ai-end/google_vit_base/\")\n",
    "feature_extractor = ViTFeatureExtractor.from_pretrained(\"D:\\image_search_engine_ai-end/google_vit_base/\")\n",
    "\n",
    "with open('../sources/metadata/image_database.json', 'r') as f:\n",
    "    image_database = json.load(f)"
   ]
  },
  {
   "cell_type": "code",
   "execution_count": 13,
   "id": "6e0a5830",
   "metadata": {},
   "outputs": [],
   "source": [
    "all_images = (\n",
    "    image_database[0]['images'] + \n",
    "    image_database[1]['images'] + \n",
    "    image_database[2]['images'] + \n",
    "    image_database[3]['images']\n",
    "    )"
   ]
  },
  {
   "cell_type": "code",
   "execution_count": 22,
   "id": "b96bc500",
   "metadata": {},
   "outputs": [
    {
     "name": "stderr",
     "output_type": "stream",
     "text": [
      "Processing Images:   0%|          | 0/100 [00:00<?, ?image/s]"
     ]
    },
    {
     "name": "stderr",
     "output_type": "stream",
     "text": [
      "Processing Images:  51%|█████     | 51/100 [00:25<00:15,  3.21image/s]"
     ]
    },
    {
     "name": "stdout",
     "output_type": "stream",
     "text": [
      "Error extracting background classes from D:\\image_search_engine_ai-end\\folder\\camera\\000054.jpg : [Errno 2] No such file or directory: 'D:\\\\image_search_engine_ai-end\\\\folder\\\\camera\\\\000054.jpg'\n"
     ]
    },
    {
     "name": "stderr",
     "output_type": "stream",
     "text": [
      "Processing Images:  86%|████████▌ | 86/100 [00:36<00:04,  3.22image/s]"
     ]
    },
    {
     "name": "stdout",
     "output_type": "stream",
     "text": [
      "Error extracting background classes from D:\\image_search_engine_ai-end\\folder\\camera\\000092.jpg : [Errno 2] No such file or directory: 'D:\\\\image_search_engine_ai-end\\\\folder\\\\camera\\\\000092.jpg'\n"
     ]
    },
    {
     "name": "stderr",
     "output_type": "stream",
     "text": [
      "Processing Images: 100%|██████████| 100/100 [00:40<00:00,  2.47image/s]\n"
     ]
    }
   ],
   "source": [
    "for image_info in tqdm(all_images[:100], desc=\"Processing Images\", unit='image'):\n",
    "    try:\n",
    "        image_path = image_info['path']\n",
    "        inputs = feature_extractor(images=PILImage.open(image_path), return_tensors=\"pt\")\n",
    "        outputs = model(**inputs)\n",
    "        predicted_class = outputs.logits.argmax(-1).item()\n",
    "        image_info['background_class'] = model.config.id2label[predicted_class]\n",
    "    except Exception as e:\n",
    "        print(f\"Error extracting background classes from {image_path} : {str(e)}\")"
   ]
  },
  {
   "cell_type": "code",
   "execution_count": null,
   "id": "9baf35ec",
   "metadata": {},
   "outputs": [
    {
     "name": "stderr",
     "output_type": "stream",
     "text": [
      "Processing images: 100%|█████████▉| 1717/1721 [11:09<00:01,  2.57image/s]\n"
     ]
    }
   ],
   "source": [
    "from concurrent.futures import ThreadPoolExecutor\n",
    "\n",
    "def process_single_image(image_info, feature_extractor, model):\n",
    "    progress_bar.update(1)\n",
    "    try:\n",
    "        image_path = image_info['path']\n",
    "        inputs = feature_extractor(images=PILImage.open(image_path), return_tensors=\"pt\")\n",
    "        outputs = model(**inputs)\n",
    "        predicted_class = outputs.logits.argmax(-1).item()\n",
    "        image_info['background_class'] = model.config.id2label[predicted_class]\n",
    "    except Exception as e:\n",
    "        image_info['background_class'] = \"non\"\n",
    "        \n",
    "with ThreadPoolExecutor(max_workers=4) as executor:\n",
    "    futures = {\n",
    "        executor.submit(process_single_image, img, feature_extractor, model): img \n",
    "        for img in all_images\n",
    "    }\n",
    "    progress_bar = tqdm(total=len(futures), desc=\"Processing images\", unit=\"image\")\n",
    "    \n",
    "progress_bar.close()"
   ]
  },
  {
   "cell_type": "code",
   "execution_count": null,
   "id": "508f5519",
   "metadata": {},
   "outputs": [],
   "source": [
    "with open('../sources/metadata/image_database.json', 'w') as f:\n",
    "    json.dump(image_database, f, indent=4)"
   ]
  },
  {
   "cell_type": "code",
   "execution_count": null,
   "id": "198d60e4",
   "metadata": {},
   "outputs": [],
   "source": [
    "class_indices = {} \n",
    "for idx, img_info in enumerate(all_images):\n",
    "    class_name = img_info['background_class']\n",
    "    if class_name not in class_indices:\n",
    "        class_indices[class_name] = []\n",
    "    class_indices[class_name].append(idx)\n",
    "\n",
    "with open('../sources/metadata/image_background_pair.json', 'w') as f:\n",
    "            json.dump(class_indices, f, indent=4)"
   ]
  },
  {
   "cell_type": "code",
   "execution_count": null,
   "id": "b7cc78d5",
   "metadata": {},
   "outputs": [],
   "source": [
    "# get background options\n",
    "background_categories = class_indices"
   ]
  },
  {
   "cell_type": "code",
   "execution_count": null,
   "id": "2dcd1034",
   "metadata": {},
   "outputs": [],
   "source": [
    "# filter all image by background class\n",
    "class_name = 'gown'\n",
    "output = [all_images[i][\"path\"] for i in class_indices[class_name]]\n",
    "for i in output:\n",
    "    print(i)\n"
   ]
  },
  {
   "cell_type": "code",
   "execution_count": null,
   "id": "8b492f9e",
   "metadata": {},
   "outputs": [],
   "source": [
    "# search image by background\n",
    "def search_similar(query_embedding, class_name=None, k=10):\n",
    "        query_embedding = np.array(\n",
    "            query_embedding).astype('float32').reshape(1, -1)\n",
    "            \n",
    "        indices = class_indices[class_name]\n",
    "        class_embeddings = np.array(\n",
    "            [all_images[i][\"feature\"] for i in indices]).astype('float32')\n",
    "        \n",
    "        temp_index = faiss.IndexFlatL2(512)\n",
    "        temp_index.add(class_embeddings)\n",
    "        \n",
    "        _, I = temp_index.search(query_embedding, k=min(k, len(indices)))\n",
    "        return [all_images[indices[i]] for i in I[0]]\n",
    "\n",
    "\n",
    "\n",
    "query_img_info = all_images[0]\n",
    "output = search_similar(\n",
    "    query_img_info['feature'],\n",
    "    class_name=\"gown\",\n",
    "    k=10\n",
    ")\n",
    "for i in output:\n",
    "    print(i['path'])"
   ]
  },
  {
   "cell_type": "code",
   "execution_count": null,
   "id": "45097b4f",
   "metadata": {},
   "outputs": [],
   "source": []
  }
 ],
 "metadata": {
  "kernelspec": {
   "display_name": "Python 3",
   "language": "python",
   "name": "python3"
  },
  "language_info": {
   "codemirror_mode": {
    "name": "ipython",
    "version": 3
   },
   "file_extension": ".py",
   "mimetype": "text/x-python",
   "name": "python",
   "nbconvert_exporter": "python",
   "pygments_lexer": "ipython3",
   "version": "3.11.3"
  }
 },
 "nbformat": 4,
 "nbformat_minor": 5
}

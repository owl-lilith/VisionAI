{
 "cells": [
  {
   "cell_type": "code",
   "execution_count": 15,
   "id": "c3cdf914",
   "metadata": {},
   "outputs": [],
   "source": [
    "import json\n",
    "import os\n",
    "import numpy as np\n",
    "import cv2 as cv\n",
    "from skimage.color import deltaE_ciede2000\n"
   ]
  },
  {
   "cell_type": "code",
   "execution_count": 16,
   "id": "d080c724",
   "metadata": {},
   "outputs": [],
   "source": [
    "with open('../sources/metadata/image_database.json', 'r') as file:\n",
    "    image_database = json.load(file)\n",
    "    \n",
    "all_images = (\n",
    "    image_database[0]['images']\n",
    "    + image_database[1]['images']\n",
    "    + image_database[2]['images']\n",
    "    + image_database[3]['images']\n",
    ")"
   ]
  },
  {
   "cell_type": "code",
   "execution_count": 17,
   "id": "dd62cb16",
   "metadata": {},
   "outputs": [],
   "source": [
    "colors_output = {}"
   ]
  },
  {
   "cell_type": "code",
   "execution_count": 18,
   "id": "67fb4763",
   "metadata": {},
   "outputs": [
    {
     "name": "stdout",
     "output_type": "stream",
     "text": [
      "Error extracting color palette from D:\\image_search_engine_ai-end\\sources\\photos\\camera\\000054.jpg : division by zero\n"
     ]
    },
    {
     "name": "stderr",
     "output_type": "stream",
     "text": [
      "C:\\Users\\DELL\\AppData\\Local\\Temp\\ipykernel_16904\\2164914489.py:11: DeprecationWarning: NumPy will stop allowing conversion of out-of-bound Python integers to integer arrays.  The conversion of 256 to uint8 will fail in the future.\n",
      "For the old behavior, usually:\n",
      "    np.array(value).astype(dtype)`\n",
      "will give the desired result (the cast overflows).\n",
      "  sub[0, 0] = [sub_color[0], sub_color[1], sub_color[2]]\n"
     ]
    },
    {
     "name": "stdout",
     "output_type": "stream",
     "text": [
      "Error extracting color palette from D:\\image_search_engine_ai-end\\sources\\photos\\camera\\000092.jpg : division by zero\n",
      "Error extracting color palette from D:\\image_search_engine_ai-end\\sources\\photos\\summer\\000218.jpg : division by zero\n",
      "Error extracting color palette from D:\\image_search_engine_ai-end\\sources\\photos\\camera\\000054.jpg : division by zero\n",
      "Error extracting color palette from D:\\image_search_engine_ai-end\\sources\\photos\\camera\\000092.jpg : division by zero\n",
      "Error extracting color palette from D:\\image_search_engine_ai-end\\sources\\photos\\summer\\000218.jpg : division by zero\n",
      "Error extracting color palette from D:\\image_search_engine_ai-end\\sources\\photos\\camera\\000054.jpg : division by zero\n",
      "Error extracting color palette from D:\\image_search_engine_ai-end\\sources\\photos\\camera\\000092.jpg : division by zero\n",
      "Error extracting color palette from D:\\image_search_engine_ai-end\\sources\\photos\\summer\\000218.jpg : division by zero\n",
      "Error extracting color palette from D:\\image_search_engine_ai-end\\sources\\photos\\camera\\000054.jpg : division by zero\n",
      "Error extracting color palette from D:\\image_search_engine_ai-end\\sources\\photos\\camera\\000092.jpg : division by zero\n",
      "Error extracting color palette from D:\\image_search_engine_ai-end\\sources\\photos\\summer\\000218.jpg : division by zero\n",
      "Error extracting color palette from D:\\image_search_engine_ai-end\\sources\\photos\\camera\\000054.jpg : division by zero\n",
      "Error extracting color palette from D:\\image_search_engine_ai-end\\sources\\photos\\camera\\000092.jpg : division by zero\n",
      "Error extracting color palette from D:\\image_search_engine_ai-end\\sources\\photos\\summer\\000218.jpg : division by zero\n",
      "Error extracting color palette from D:\\image_search_engine_ai-end\\sources\\photos\\camera\\000054.jpg : division by zero\n",
      "Error extracting color palette from D:\\image_search_engine_ai-end\\sources\\photos\\camera\\000092.jpg : division by zero\n",
      "Error extracting color palette from D:\\image_search_engine_ai-end\\sources\\photos\\summer\\000218.jpg : division by zero\n",
      "Error extracting color palette from D:\\image_search_engine_ai-end\\sources\\photos\\camera\\000054.jpg : division by zero\n",
      "Error extracting color palette from D:\\image_search_engine_ai-end\\sources\\photos\\camera\\000092.jpg : division by zero\n",
      "Error extracting color palette from D:\\image_search_engine_ai-end\\sources\\photos\\summer\\000218.jpg : division by zero\n",
      "Error extracting color palette from D:\\image_search_engine_ai-end\\sources\\photos\\camera\\000054.jpg : division by zero\n",
      "Error extracting color palette from D:\\image_search_engine_ai-end\\sources\\photos\\camera\\000092.jpg : division by zero\n",
      "Error extracting color palette from D:\\image_search_engine_ai-end\\sources\\photos\\summer\\000218.jpg : division by zero\n",
      "Error extracting color palette from D:\\image_search_engine_ai-end\\sources\\photos\\camera\\000054.jpg : division by zero\n",
      "Error extracting color palette from D:\\image_search_engine_ai-end\\sources\\photos\\camera\\000092.jpg : division by zero\n",
      "Error extracting color palette from D:\\image_search_engine_ai-end\\sources\\photos\\summer\\000218.jpg : division by zero\n",
      "Error extracting color palette from D:\\image_search_engine_ai-end\\sources\\photos\\camera\\000054.jpg : division by zero\n",
      "Error extracting color palette from D:\\image_search_engine_ai-end\\sources\\photos\\camera\\000092.jpg : division by zero\n",
      "Error extracting color palette from D:\\image_search_engine_ai-end\\sources\\photos\\summer\\000218.jpg : division by zero\n",
      "Error extracting color palette from D:\\image_search_engine_ai-end\\sources\\photos\\camera\\000054.jpg : division by zero\n",
      "Error extracting color palette from D:\\image_search_engine_ai-end\\sources\\photos\\camera\\000092.jpg : division by zero\n",
      "Error extracting color palette from D:\\image_search_engine_ai-end\\sources\\photos\\summer\\000218.jpg : division by zero\n",
      "Error extracting color palette from D:\\image_search_engine_ai-end\\sources\\photos\\camera\\000054.jpg : division by zero\n",
      "Error extracting color palette from D:\\image_search_engine_ai-end\\sources\\photos\\camera\\000092.jpg : division by zero\n",
      "Error extracting color palette from D:\\image_search_engine_ai-end\\sources\\photos\\summer\\000218.jpg : division by zero\n",
      "Error extracting color palette from D:\\image_search_engine_ai-end\\sources\\photos\\camera\\000054.jpg : division by zero\n",
      "Error extracting color palette from D:\\image_search_engine_ai-end\\sources\\photos\\camera\\000092.jpg : division by zero\n",
      "Error extracting color palette from D:\\image_search_engine_ai-end\\sources\\photos\\summer\\000218.jpg : division by zero\n",
      "Error extracting color palette from D:\\image_search_engine_ai-end\\sources\\photos\\camera\\000054.jpg : division by zero\n",
      "Error extracting color palette from D:\\image_search_engine_ai-end\\sources\\photos\\camera\\000092.jpg : division by zero\n",
      "Error extracting color palette from D:\\image_search_engine_ai-end\\sources\\photos\\summer\\000218.jpg : division by zero\n",
      "Error extracting color palette from D:\\image_search_engine_ai-end\\sources\\photos\\camera\\000054.jpg : division by zero\n",
      "Error extracting color palette from D:\\image_search_engine_ai-end\\sources\\photos\\camera\\000092.jpg : division by zero\n",
      "Error extracting color palette from D:\\image_search_engine_ai-end\\sources\\photos\\summer\\000218.jpg : division by zero\n",
      "Error extracting color palette from D:\\image_search_engine_ai-end\\sources\\photos\\camera\\000054.jpg : division by zero\n",
      "Error extracting color palette from D:\\image_search_engine_ai-end\\sources\\photos\\camera\\000092.jpg : division by zero\n",
      "Error extracting color palette from D:\\image_search_engine_ai-end\\sources\\photos\\summer\\000218.jpg : division by zero\n",
      "Error extracting color palette from D:\\image_search_engine_ai-end\\sources\\photos\\camera\\000054.jpg : division by zero\n",
      "Error extracting color palette from D:\\image_search_engine_ai-end\\sources\\photos\\camera\\000092.jpg : division by zero\n",
      "Error extracting color palette from D:\\image_search_engine_ai-end\\sources\\photos\\summer\\000218.jpg : division by zero\n",
      "Error extracting color palette from D:\\image_search_engine_ai-end\\sources\\photos\\camera\\000054.jpg : division by zero\n",
      "Error extracting color palette from D:\\image_search_engine_ai-end\\sources\\photos\\camera\\000092.jpg : division by zero\n",
      "Error extracting color palette from D:\\image_search_engine_ai-end\\sources\\photos\\summer\\000218.jpg : division by zero\n",
      "Error extracting color palette from D:\\image_search_engine_ai-end\\sources\\photos\\camera\\000054.jpg : division by zero\n",
      "Error extracting color palette from D:\\image_search_engine_ai-end\\sources\\photos\\camera\\000092.jpg : division by zero\n",
      "Error extracting color palette from D:\\image_search_engine_ai-end\\sources\\photos\\summer\\000218.jpg : division by zero\n",
      "Error extracting color palette from D:\\image_search_engine_ai-end\\sources\\photos\\camera\\000054.jpg : division by zero\n",
      "Error extracting color palette from D:\\image_search_engine_ai-end\\sources\\photos\\camera\\000092.jpg : division by zero\n",
      "Error extracting color palette from D:\\image_search_engine_ai-end\\sources\\photos\\summer\\000218.jpg : division by zero\n",
      "Error extracting color palette from D:\\image_search_engine_ai-end\\sources\\photos\\camera\\000054.jpg : division by zero\n",
      "Error extracting color palette from D:\\image_search_engine_ai-end\\sources\\photos\\camera\\000092.jpg : division by zero\n",
      "Error extracting color palette from D:\\image_search_engine_ai-end\\sources\\photos\\summer\\000218.jpg : division by zero\n",
      "Error extracting color palette from D:\\image_search_engine_ai-end\\sources\\photos\\camera\\000054.jpg : division by zero\n",
      "Error extracting color palette from D:\\image_search_engine_ai-end\\sources\\photos\\camera\\000092.jpg : division by zero\n",
      "Error extracting color palette from D:\\image_search_engine_ai-end\\sources\\photos\\summer\\000218.jpg : division by zero\n",
      "Error extracting color palette from D:\\image_search_engine_ai-end\\sources\\photos\\camera\\000054.jpg : division by zero\n",
      "Error extracting color palette from D:\\image_search_engine_ai-end\\sources\\photos\\camera\\000092.jpg : division by zero\n",
      "Error extracting color palette from D:\\image_search_engine_ai-end\\sources\\photos\\summer\\000218.jpg : division by zero\n",
      "Error extracting color palette from D:\\image_search_engine_ai-end\\sources\\photos\\camera\\000054.jpg : division by zero\n",
      "Error extracting color palette from D:\\image_search_engine_ai-end\\sources\\photos\\camera\\000092.jpg : division by zero\n",
      "Error extracting color palette from D:\\image_search_engine_ai-end\\sources\\photos\\summer\\000218.jpg : division by zero\n"
     ]
    }
   ],
   "source": [
    "# load color categories from all images\n",
    "def similar_image_by_color(color, data, similarity_threshold = 50):\n",
    "    similar_images = []\n",
    "    for element in data:\n",
    "        try:  \n",
    "            image_path = element['path']\n",
    "            palette = element['color_palette']\n",
    "            score = 0\n",
    "            for sub_color in palette:\n",
    "                sub = np.zeros((1, 1, 3), dtype=np.uint8)\n",
    "                sub[0, 0] = [sub_color[0], sub_color[1], sub_color[2]]\n",
    "                lab = cv.cvtColor(sub, cv.COLOR_RGB2LAB)\n",
    "                sub_color = lab[0][0]\n",
    "                diff = deltaE_ciede2000(color, sub_color)\n",
    "                score += diff\n",
    "            score /= len(palette)\n",
    "            if score < similarity_threshold:\n",
    "                similar_images.append({\n",
    "                    'path': image_path,\n",
    "                    'score': score\n",
    "                })\n",
    "        except Exception as e:\n",
    "            print(f\"Error extracting color palette from {image_path} : {str(e)}\")\n",
    "    return sorted(similar_images, key=lambda item: item['score'], reverse=False)\n",
    "\n",
    "colors_names = [\n",
    "    'white', 'black', 'red', 'green', 'blue',\n",
    "    'orange', 'yellow', 'purple', 'pink', 'brown',\n",
    "    'gray', 'maroon', 'turquoise', 'cyan', 'navy blue',\n",
    "    'gold', 'silver', 'beige', 'teal', 'lime',\n",
    "    'olive', 'violet', 'magenta', 'indigo'\n",
    "]\n",
    "\n",
    "colors = [\n",
    "    [255, 255, 255],\n",
    "    [0, 0, 0],\n",
    "    [255, 0, 0],\n",
    "    [0, 255, 0],\n",
    "    [0, 0, 255],\n",
    "    [255, 165, 0],\n",
    "    [255, 255, 0],\n",
    "    [128, 0, 128],\n",
    "    [255, 192, 203],\n",
    "    [165, 42, 42],\n",
    "    [128, 128, 128],\n",
    "    [128, 0, 0],\n",
    "    [64, 224, 208],\n",
    "    [0, 255, 255],\n",
    "    [0, 0, 128],\n",
    "    [255, 215, 0],\n",
    "    [192, 192, 192],\n",
    "    [245, 245, 220],\n",
    "    [0, 128, 128],\n",
    "    [0, 255, 0],\n",
    "    [128, 128, 0],\n",
    "    [238, 130, 238],\n",
    "    [255, 0, 255],\n",
    "    [75, 0, 130]\n",
    "]\n",
    "for color, color_name in zip(colors, colors_names):\n",
    "    image = np.zeros((1, 1, 3), dtype=np.uint8)\n",
    "    image[0, 0] = color\n",
    "    lab = cv.cvtColor(image, cv.COLOR_RGB2LAB)\n",
    "    color = lab[0][0]\n",
    "\n",
    "    similar = similar_image_by_color(color, all_images, similarity_threshold=50)\n",
    "    if color_name not in colors_output:\n",
    "        colors_output[color_name] = [element['path'] for element in similar]"
   ]
  },
  {
   "cell_type": "code",
   "execution_count": 19,
   "id": "ec3e937e",
   "metadata": {},
   "outputs": [],
   "source": [
    "# load background classes from all images\n",
    "with open('../sources/metadata/image_background_pair.json', 'r') as file:\n",
    "    background  = json.load(file)\n",
    "\n",
    "background_output = {}\n",
    "for class_name in background:\n",
    "    image_paths = [all_images[i][\"path\"] for i in background[class_name]]\n",
    "    if class_name not in background_output:\n",
    "        background_output[class_name] = image_paths"
   ]
  },
  {
   "cell_type": "code",
   "execution_count": 20,
   "id": "25c8f129",
   "metadata": {},
   "outputs": [
    {
     "name": "stdout",
     "output_type": "stream",
     "text": [
      "Error extracting face from D:\\image_search_engine_ai-end\\sources\\photos\\camera\\000054.jpg : 'persons'\n",
      "Error extracting face from D:\\image_search_engine_ai-end\\sources\\photos\\camera\\000092.jpg : 'persons'\n"
     ]
    }
   ],
   "source": [
    "# load faces sets from camera folder\n",
    "faces_output = {}\n",
    "for element in image_database[0][\"images\"]:\n",
    "    try:\n",
    "        for label in element[\"persons\"]:\n",
    "            if label not in faces_output:\n",
    "                faces_output[label] = []\n",
    "            faces_output[label].append(element[\"path\"])\n",
    "    except Exception as e:\n",
    "        print(f\"Error extracting face from {element['path']} : {str(e)}\")"
   ]
  },
  {
   "cell_type": "code",
   "execution_count": 21,
   "id": "29fe1f9b",
   "metadata": {},
   "outputs": [],
   "source": [
    "# load objects classes from all images\n",
    "objects_output = {}\n",
    "for element in all_images:\n",
    "    try:\n",
    "        for label in list(element[\"objects\"][\"categories\"].keys()):\n",
    "            if label not in objects_output:\n",
    "                objects_output[label] = []\n",
    "            objects_output[label].append(element[\"path\"])\n",
    "    except Exception as e:\n",
    "        print(f\"Error extracting face from {element['path']} : {str(e)}\")"
   ]
  },
  {
   "cell_type": "code",
   "execution_count": 24,
   "id": "8ebc12ac",
   "metadata": {},
   "outputs": [],
   "source": [
    "output = {\n",
    "    \"colors_keys\": list(colors_output.keys()),\n",
    "    \"colors\" : colors_output,\n",
    "    \"faces_keys\": list(faces_output.keys()),\n",
    "    \"faces\" : faces_output,\n",
    "    \"backgrounds_keys\": list(background_output.keys()),\n",
    "    \"backgrounds\" : background_output,\n",
    "    \"objects_keys\": list(objects_output.keys()),\n",
    "    \"objects\": objects_output\n",
    "}"
   ]
  },
  {
   "cell_type": "code",
   "execution_count": 25,
   "id": "f2a1ba06",
   "metadata": {},
   "outputs": [],
   "source": [
    "with open('../sources/metadata/home_page_filters_option.json', 'w') as f:\n",
    "    json.dump(output, f, indent=4)"
   ]
  },
  {
   "cell_type": "code",
   "execution_count": null,
   "id": "fec69244",
   "metadata": {},
   "outputs": [],
   "source": []
  }
 ],
 "metadata": {
  "kernelspec": {
   "display_name": "Python 3",
   "language": "python",
   "name": "python3"
  },
  "language_info": {
   "codemirror_mode": {
    "name": "ipython",
    "version": 3
   },
   "file_extension": ".py",
   "mimetype": "text/x-python",
   "name": "python",
   "nbconvert_exporter": "python",
   "pygments_lexer": "ipython3",
   "version": "3.11.3"
  }
 },
 "nbformat": 4,
 "nbformat_minor": 5
}
